{
 "cells": [
  {
   "cell_type": "markdown",
   "metadata": {
    "collapsed": true
   },
   "source": [
    "# RIW Project by Cécile Gontier and Delphine Shi\n",
    "This notebook will demonstrate primary results from the project.\n",
    "Note : if figures dont show properly, just run again and it should work.\n",
    "\n",
    "## Part 1 : Pre-processing the copus"
   ]
  },
  {
   "cell_type": "markdown",
   "metadata": {},
   "source": [
    "### CACM\n",
    "Calculate tokens and vocabulary size for CACM collection, the Heap law regression, and draw its frequency-rank graph."
   ]
  },
  {
   "cell_type": "code",
   "execution_count": 1,
   "metadata": {},
   "outputs": [
    {
     "name": "stderr",
     "output_type": "stream",
     "text": [
      "2019-02-25 09:57:51,356 - INFO : Start building index...\n",
      "2019-02-25 09:57:52,091 - INFO : Index built in 0.7329328060150146 seconds\n"
     ]
    },
    {
     "name": "stdout",
     "output_type": "stream",
     "text": [
      "Tokens: 188887\n",
      "Vocabulary: 9238\n",
      "\n",
      "The Heap law parameters are:\n",
      "(b, k) = (0.4736822683077262, 29.264061028536908)\n",
      "For 1 million tokens there would be (by Heap law) 20343.618531559812 vocabulary\n"
     ]
    },
    {
     "data": {
      "text/plain": [
       "<Figure size 640x480 with 1 Axes>"
      ]
     },
     "metadata": {},
     "output_type": "display_data"
    },
    {
     "data": {
      "text/plain": [
       "<Figure size 640x480 with 1 Axes>"
      ]
     },
     "metadata": {},
     "output_type": "display_data"
    }
   ],
   "source": [
    "from CACMIndex import *\n",
    "from heapRegression import *\n",
    "\n",
    "cacmindex = CACMIndex()\n",
    "cacmindex.build()\n",
    "cacmindex.get_size()\n",
    "\n",
    "print()\n",
    "#following data is the result of size number for full and half text.\n",
    "CACM_tokens = np.array([188887, 85151])\n",
    "CACM_vocab = np.array([9238, 6334])\n",
    "heap = HeapRegression(CACM_tokens, CACM_vocab)\n",
    "parameters = heap.calculate_regression()\n",
    "print(\"The Heap law parameters are:\")\n",
    "print(\"(b, k) = {}\".format(parameters))\n",
    "print(\"For 1 million tokens there would be (by Heap law) {} vocabulary\"\n",
    "    .format(heap.calculate_vocab(1000000, parameters)))\n",
    "\n",
    "graph = FrequencyRankGraph(cacmindex.get_freq())\n",
    "graph.draw_graph()\n",
    "graph.draw_log_graph()"
   ]
  },
  {
   "cell_type": "markdown",
   "metadata": {},
   "source": [
    "### CS276\n",
    "Calculate tokens and vocabulary size for CS276 collection, and draw its frequency-rank graph.\n",
    "It will take around 10 minutes."
   ]
  },
  {
   "cell_type": "code",
   "execution_count": null,
   "metadata": {},
   "outputs": [],
   "source": [
    "from CS276Index import *\n",
    "from heapRegression import *\n",
    "\n",
    "cs276index = CS276Index()\n",
    "cs276index.build()\n",
    "# cs276index.get_size()\n",
    "\n",
    "print()\n",
    "#following data is the result of size number for full and half text.\n",
    "CS276_tokens = np.array([25527977,  12796571])\n",
    "CS276_vocab = np.array([284418, 140665])\n",
    "heap = HeapRegression(CS276_tokens, CS276_vocab)\n",
    "parameters = heap.calculate_regression()\n",
    "print(\"The Heap law parameters are:\")\n",
    "print(\"(b, k) = {}\".format(parameters))\n",
    "print(\"For 1 million tokens there would be (by Heap law) {} vocabulary\"\n",
    "    .format(heap.calculate_vocab(1000000, parameters)))\n",
    "\n",
    "graph = FrequencyRankGraph(cs276index.get_freq())\n",
    "graph.draw_graph()\n",
    "graph.draw_log_graph()"
   ]
  },
  {
   "cell_type": "markdown",
   "metadata": {},
   "source": [
    "## Part 2 : Inverted index\n",
    "### CACM\n",
    "Let's create CACM inverted index"
   ]
  },
  {
   "cell_type": "code",
   "execution_count": 2,
   "metadata": {},
   "outputs": [
    {
     "name": "stderr",
     "output_type": "stream",
     "text": [
      "2019-02-25 09:58:08,176 - INFO : Start building index...\n",
      "2019-02-25 09:58:08,866 - INFO : Index built in 0.6876966953277588 seconds\n"
     ]
    }
   ],
   "source": [
    "from BSBIndex import *\n",
    "\n",
    "CACMIndex = CACMIndex()\n",
    "CACMIndex.build()\n",
    "index = BSBIndex('CACM', CACMIndex.get_term_dict(), CACMIndex.get_document_dict())\n",
    "index.build()\n",
    "# print(index.get_index())"
   ]
  },
  {
   "cell_type": "markdown",
   "metadata": {},
   "source": [
    "## Part 3 : Search\n",
    "### Boolean search"
   ]
  },
  {
   "cell_type": "code",
   "execution_count": null,
   "metadata": {
    "scrolled": true
   },
   "outputs": [],
   "source": [
    "from boolean.booleanEvaluation import *\n",
    "\n",
    "# search for documents having words arithmetic and hardware in CACM collection\n",
    "request_and = BooleanRequest(Operation.AND, \"arithmetic\", \"hardware\")  # 1258, 1409, 2175, 3131\n",
    "model = BooleanEvaluation(request_and, \"CACM\")\n",
    "res = model.search()\n",
    "print(res)\n",
    "model.display_results(res, len(res))\n",
    "\n",
    "\n",
    "# here do it with CS276"
   ]
  },
  {
   "cell_type": "markdown",
   "metadata": {},
   "source": [
    "### Vectorial search"
   ]
  },
  {
   "cell_type": "code",
   "execution_count": null,
   "metadata": {},
   "outputs": [],
   "source": [
    "from vectorial.vectorialEvaluation import *\n",
    "\n",
    "# in CACM collection\n",
    "request = \"arithmetic hardware\"\n",
    "model = VectorialEvaluation(request, \"CACM\")\n",
    "# results, total = model.search(NaturalWeighting())\n",
    "# results, total = model.search(TfIdfWeighting())\n",
    "results, total = model.search(NormalizedTfIdfWeighting(), \"jaccard\")\n",
    "# print(results)\n",
    "model.display_results(results, total)\n",
    "\n",
    "# here do it with CS276"
   ]
  },
  {
   "cell_type": "markdown",
   "metadata": {},
   "source": [
    "## Part 4 : CACM Evaluation\n",
    "###  Performance"
   ]
  },
  {
   "cell_type": "code",
   "execution_count": 1,
   "metadata": {},
   "outputs": [
    {
     "name": "stdout",
     "output_type": "stream",
     "text": [
      "The index is created in 2.854363203048706\n",
      "The index has a size 1M\n",
      "A boolean request gives a response in 0.000186920166015625s\n",
      "A vectorial request gives a response in 0.04958701133728027s\n"
     ]
    }
   ],
   "source": [
    "from CACMEvaluation import *\n",
    "\n",
    "print(\"The index is created in {}\".format(index_creation_time()))\n",
    "print(\"The index has a size {}\".format(get_file_size(\"index_CACM.json\")))\n",
    "print(\"A boolean request gives a response in {}s\".format(get_boolean_response_time()))\n",
    "print(\"A vectorial request gives a response in {}s\".format(get_vectorial_response_time()))"
   ]
  },
  {
   "cell_type": "markdown",
   "metadata": {},
   "source": [
    "### Pertinence"
   ]
  },
  {
   "cell_type": "code",
   "execution_count": null,
   "metadata": {},
   "outputs": [],
   "source": [
    "from CACMEvaluation import *\n",
    "\n",
    "# Here you can change the weighting and use NaturalWeighting or NormalizedTfIdfWeighting\n",
    "calculate_measures(NaturalWeighting())"
   ]
  },
  {
   "cell_type": "markdown",
   "metadata": {},
   "source": [
    "## Part 4 : CS276 Variable Byte"
   ]
  },
  {
   "cell_type": "code",
   "execution_count": null,
   "metadata": {},
   "outputs": [],
   "source": []
  }
 ],
 "metadata": {
  "kernelspec": {
   "display_name": "Python 3",
   "language": "python",
   "name": "python3"
  },
  "language_info": {
   "codemirror_mode": {
    "name": "ipython",
    "version": 3
   },
   "file_extension": ".py",
   "mimetype": "text/x-python",
   "name": "python",
   "nbconvert_exporter": "python",
   "pygments_lexer": "ipython3",
   "version": "3.7.0"
  }
 },
 "nbformat": 4,
 "nbformat_minor": 1
}
