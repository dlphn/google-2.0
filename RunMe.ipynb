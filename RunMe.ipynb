{
 "cells": [
  {
   "cell_type": "markdown",
   "metadata": {
    "collapsed": true
   },
   "source": [
    "# Projet RI-Web par Cécile Gontier et Delphine Shi\n",
    "Ce notebook va faire calculer les résultats principaux du projet, il est possible de voir le code directement pour plus de précisions.\n",
    "Nous avons laissé les outputs pour ne pas obliger à tout runner, ce qui peut être très long pour certaines exécutions.\n",
    "Note : si les figures ne s'affichent pas correctement, il suffit de runner une deuxième fois.\n",
    "\n",
    "## Partie 1 : Pre-processing du corpus\n",
    "Dans cette partie, on calcule le vocabulaire et le nombre de tokens de chaque collection, on calcule sa loi de Heap et on affiche son graphe de rang-fréquence.\n",
    "\n",
    "Les résultats sont récapitulés dans ce tableau :\n",
    "\n",
    "| Mesure | CACM | CS276 |\n",
    "| ----- | ----- | ----- |\n",
    "| Nombre de tokens | 188 887 | 25 527 977 |\n",
    "| Taille du vocabulaire | 9 238 | 284 418 |\n",
    "| Tokens sur moitié de la collection | 85 151 | 12 796 571 |\n",
    "| Vocab sur moitié de la collection | 6 334 | 140 665 |\n",
    "| Loi de Heap | b = 0.474    k = 29.264 | b = 1.019    k = 0.00798 |\n",
    "| Estimation taille du vocabulaire (1M de tokens) | 20 343 | 10 459 |\n",
    "\n",
    "On peut les recalculer avec les lignes suivantes."
   ]
  },
  {
   "cell_type": "markdown",
   "metadata": {},
   "source": [
    "### CACM\n",
    "Calcule le vocabulaire et le nombre de tokens de chaque collection, on calcule sa loi de Heap et on affiche son graphe de rang-fréquence."
   ]
  },
  {
   "cell_type": "code",
   "execution_count": 2,
   "metadata": {},
   "outputs": [
    {
     "name": "stdout",
     "output_type": "stream",
     "text": [
      "Tokens: 188887\n",
      "Vocabulary: 9238\n",
      "\n",
      "For half of the text:\n",
      "Tokens: 85151\n",
      "Vocabulary: 6334\n",
      "\n",
      "The Heap law parameters are:\n",
      "(b, k) = (0.4736822683077262, 29.264061028536908)\n",
      "For 1 million tokens there would be (by Heap law) 20343.618531559812 words in the vocabulary\n"
     ]
    },
    {
     "data": {
      "image/png": "[encoded data removed]",
      "text/plain": [
       "<Figure size 432x288 with 1 Axes>"
      ]
     },
     "metadata": {
      "needs_background": "light"
     },
     "output_type": "display_data"
    },
    {
     "data": {
      "image/png": "[encoded data removed]",
      "text/plain": [
       "<Figure size 432x288 with 1 Axes>"
      ]
     },
     "metadata": {
      "needs_background": "light"
     },
     "output_type": "display_data"
    }
   ],
   "source": [
    "from CACMIndex import *\n",
    "from heapRegression import *\n",
    "\n",
    "cacm_index = CACMIndex()\n",
    "cacm_index.build()\n",
    "nb_tokens, nb_vocab = cacm_index.get_size()\n",
    "# nb_tokens, nb_vocab = 188887, 9238\n",
    "\n",
    "print()\n",
    "print(\"For half of the text:\")\n",
    "cacm_index.build(half=True)\n",
    "nb_tokens_half, nb_vocab_half = cacm_index.get_size()\n",
    "# nb_tokens_half, nb_vocab_half = 85151, 6334\n",
    "\n",
    "print()\n",
    "CACM_tokens = np.array([nb_tokens, nb_tokens_half])\n",
    "CACM_vocab = np.array([nb_vocab, nb_vocab_half])\n",
    "heap = HeapRegression(CACM_tokens, CACM_vocab)\n",
    "parameters = heap.calculate_regression()\n",
    "print(\"The Heap law parameters are:\")\n",
    "print(\"(b, k) = {}\".format(parameters))\n",
    "print(\"For 1 million tokens there would be (by Heap law) {} words in the vocabulary\"\n",
    "    .format(heap.calculate_vocab(1000000)))\n",
    "\n",
    "graph = FrequencyRankGraph(cacm_index.get_freq())\n",
    "graph.draw_graph()\n",
    "graph.draw_log_graph()"
   ]
  },
  {
   "cell_type": "markdown",
   "metadata": {},
   "source": [
    "### CS276\n",
    "Calcule le vocabulaire et le nombre de tokens de chaque collection, on calcule sa loi de Heap et on affiche son graphe de rang-fréquence. (La construction de l'index CS276 prend environ 10 min donc la regénération de ces chiffres prendra environ 20 min.)"
   ]
  },
  {
   "cell_type": "code",
   "execution_count": 1,
   "metadata": {},
   "outputs": [
    {
     "name": "stderr",
     "output_type": "stream",
     "text": [
      "2019-03-09 12:21:05,632 - INFO : Read 1/10 folders\n",
      "2019-03-09 12:21:10,450 - INFO : Read 2/10 folders\n",
      "2019-03-09 12:21:14,569 - INFO : Read 3/10 folders\n",
      "2019-03-09 12:21:19,299 - INFO : Read 4/10 folders\n",
      "2019-03-09 12:21:23,844 - INFO : Read 5/10 folders\n",
      "2019-03-09 12:21:28,496 - INFO : Read 6/10 folders\n",
      "2019-03-09 12:21:33,007 - INFO : Read 7/10 folders\n",
      "2019-03-09 12:21:37,679 - INFO : Read 8/10 folders\n",
      "2019-03-09 12:21:42,448 - INFO : Read 9/10 folders\n",
      "2019-03-09 12:21:46,679 - INFO : Read 10/10 folders\n"
     ]
    },
    {
     "name": "stdout",
     "output_type": "stream",
     "text": [
      "Tokens: 25527977\n",
      "Vocabulary: 284418\n",
      "\n",
      "For half of the text:\n"
     ]
    },
    {
     "name": "stderr",
     "output_type": "stream",
     "text": [
      "2019-03-09 12:29:14,511 - INFO : Read 1/10 folders\n",
      "2019-03-09 12:29:19,987 - INFO : Read 2/10 folders\n",
      "2019-03-09 12:29:25,496 - INFO : Read 3/10 folders\n",
      "2019-03-09 12:29:31,221 - INFO : Read 4/10 folders\n",
      "2019-03-09 12:29:36,271 - INFO : Read 5/10 folders\n",
      "2019-03-09 12:29:41,153 - INFO : Read 6/10 folders\n",
      "2019-03-09 12:29:46,261 - INFO : Read 7/10 folders\n",
      "2019-03-09 12:29:51,512 - INFO : Read 8/10 folders\n",
      "2019-03-09 12:29:57,191 - INFO : Read 9/10 folders\n",
      "2019-03-09 12:30:02,027 - INFO : Read 10/10 folders\n"
     ]
    },
    {
     "name": "stdout",
     "output_type": "stream",
     "text": [
      "Tokens: 12758945\n",
      "Vocabulary: 144002\n",
      "\n",
      "The Heap law parameters are:\n",
      "(b, k) = (0.9813643763154826, 0.015309994988403103)\n",
      "For 1 million tokens there would be (by Heap law) 11834.810447358743 vocabulary\n"
     ]
    },
    {
     "data": {
      "text/plain": [
       "<Figure size 640x480 with 1 Axes>"
      ]
     },
     "metadata": {},
     "output_type": "display_data"
    },
    {
     "data": {
      "text/plain": [
       "<Figure size 640x480 with 1 Axes>"
      ]
     },
     "metadata": {},
     "output_type": "display_data"
    }
   ],
   "source": [
    "from CS276Index import *\n",
    "from heapRegression import *\n",
    "\n",
    "cs276_index = CS276Index()\n",
    "cs276_index.build()\n",
    "nb_tokens, nb_vocab = cs276_index.get_size()\n",
    "# nb_tokens, nb_vocab = 25527977, 284418\n",
    "\n",
    "print()\n",
    "print(\"For half of the text:\")\n",
    "cs276_index.build(half=True)\n",
    "nb_tokens_half, nb_vocab_half = cs276_index.get_size()\n",
    "# nb_tokens_half, nb_vocab_half = 12796571, 140665\n",
    "\n",
    "print()\n",
    "CS276_tokens = np.array([nb_tokens,  nb_tokens_half])\n",
    "CS276_vocab = np.array([nb_vocab, nb_vocab_half])\n",
    "heap = HeapRegression(CS276_tokens, CS276_vocab)\n",
    "parameters = heap.calculate_regression()\n",
    "print(\"The Heap law parameters are:\")\n",
    "print(\"(b, k) = {}\".format(parameters))\n",
    "print(\"For 1 million tokens there would be (by Heap law) {} vocabulary\"\n",
    "    .format(heap.calculate_vocab(1000000)))\n",
    "\n",
    "graph = FrequencyRankGraph(cs276_index.get_freq())\n",
    "graph.draw_graph()\n",
    "graph.draw_log_graph()"
   ]
  },
  {
   "cell_type": "markdown",
   "metadata": {},
   "source": [
    "## Partie 2 : Index inversé\n",
    "On crée directement l'index inversé avec les fréquences. Le json est de la forme :\n",
    "\n",
    "$\\{term_{id} : [[doc_{id}, frequency], [doc_{id}, frequency], ...], ...\\}$\n",
    "\n",
    "On construit l'index par la méthode BSBI (block sort-based index) :\n",
    "1. On commence par créer un dictionnaire de termes de la forme : $\\{term : term_{id}\\}$\n",
    "et un dictionnaire de documents de la forme : $\\{doc_{id} : doc\\}$.\n",
    "2. On va ensuite segmenter la collection en blocs : la collection CACM est considérée comme un seul bloc. Pour CS276, on considère chaque sous-répertoire comme bloc.\n",
    "3. Pour chaque bloc, on parcourt les documents du bloc afin de définir les paires $\\{term_{id} : [doc_{id}, frequency]\\}$ indiquant dans quels documents chaque terme du vocabulaire apparaît. On peut ensuite trier les paires selon $term_{id}$ puis $doc_{id}$ afin d'obtenir des objets de la forme : $\\{term_{id} : [[doc_{id}, frequency], ...]\\}$\n",
    "4. On stocke les résultats intermédiaires sur le disque.\n",
    "5. On répète le processus jusqu'au parcours complet de la collection.\n",
    "6. Enfin, on fusionne tous les résultats pour obtenir l'index final.\n",
    "\n",
    "Dans notre projet, le fichier `BSBI.py` est le point d'entrée de la construction de l'index. On va récupérer le dictionnaire de termes et segmenter la collection en blocs puis appliquer les fonctions de `BSBIndex.py` sur chaque bloc pour en construire les index. Enfin, on fusionne les différents indexes créés.\n",
    "\n",
    "@Nous : ajouter un tableau avec la taille des index.\n",
    "\n",
    "### CACM\n",
    "Construction et sauvegarde de l'index CACM. Cela le sauvegarde dans le dossier `index\\`."
   ]
  },
  {
   "cell_type": "code",
   "execution_count": 3,
   "metadata": {},
   "outputs": [
    {
     "name": "stderr",
     "output_type": "stream",
     "text": [
      "2019-03-09 14:53:58,647 - INFO : Building inverted index...\n",
      "2019-03-09 14:53:59,855 - INFO : Built block 0 index\n",
      "2019-03-09 14:53:59,856 - INFO : Merging intermediate results...\n",
      "2019-03-09 14:54:00,301 - INFO : Finished building inverted index.\n"
     ]
    }
   ],
   "source": [
    "from BSBI import *\n",
    "\n",
    "index = BSBI('CACM')\n",
    "index.build()"
   ]
  },
  {
   "cell_type": "markdown",
   "metadata": {},
   "source": [
    "### CS276\n",
    "Construction et sauvegarde de l'index CS276. Il faut en général 30 min mais cela peut prendre jusqu'à une heure à cause de sa taille. Vous pouvez aussi envoyer un mail à Cécile ou Delphine pour avoir l'index en fichier zippé et l'ajouter au dossier `index/`."
   ]
  },
  {
   "cell_type": "code",
   "execution_count": 2,
   "metadata": {},
   "outputs": [
    {
     "name": "stderr",
     "output_type": "stream",
     "text": [
      "2019-03-09 12:53:58,788 - INFO : Read 1/10 folders\n",
      "2019-03-09 12:54:04,170 - INFO : Read 2/10 folders\n",
      "2019-03-09 12:54:09,311 - INFO : Read 3/10 folders\n",
      "2019-03-09 12:54:14,643 - INFO : Read 4/10 folders\n",
      "2019-03-09 12:54:19,241 - INFO : Read 5/10 folders\n",
      "2019-03-09 12:54:23,863 - INFO : Read 6/10 folders\n",
      "2019-03-09 12:54:27,548 - INFO : Read 7/10 folders\n",
      "2019-03-09 12:54:32,991 - INFO : Read 8/10 folders\n",
      "2019-03-09 12:54:38,283 - INFO : Read 9/10 folders\n",
      "2019-03-09 12:54:43,311 - INFO : Read 10/10 folders\n",
      "2019-03-09 13:01:30,027 - INFO : Building inverted index...\n",
      "2019-03-09 13:03:56,755 - INFO : Built block 0 index\n",
      "2019-03-09 13:06:13,223 - INFO : Built block 1 index\n",
      "2019-03-09 13:08:37,869 - INFO : Built block 2 index\n",
      "2019-03-09 13:10:22,858 - INFO : Built block 3 index\n",
      "2019-03-09 13:12:10,890 - INFO : Built block 4 index\n",
      "2019-03-09 13:13:53,699 - INFO : Built block 5 index\n",
      "2019-03-09 13:15:19,729 - INFO : Built block 6 index\n",
      "2019-03-09 13:16:31,242 - INFO : Built block 7 index\n",
      "2019-03-09 13:17:42,002 - INFO : Built block 8 index\n",
      "2019-03-09 13:18:33,941 - INFO : Built block 9 index\n",
      "2019-03-09 13:18:33,948 - INFO : Merging intermediate results...\n",
      "2019-03-09 13:20:04,596 - INFO : Finished building inverted index.\n"
     ]
    }
   ],
   "source": [
    "from BSBI import *\n",
    "\n",
    "CS276index = BSBI('CS276')\n",
    "CS276index.build()"
   ]
  },
  {
   "cell_type": "markdown",
   "metadata": {},
   "source": [
    "## Part 3 : Recherche\n",
    "Ici on utilise les index créés précedemment pour effectuer des recherches simples.\n",
    "\n",
    "### Recherche booléenne\n",
    "Pour modéliser une recherche booléenne nous avons utilisé la structure `BooleanRequest(operateur, opérande_gauche, opérande_droit)`, qui s'inspire de la notation polonaise."
   ]
  },
  {
   "cell_type": "markdown",
   "metadata": {},
   "source": [
    "#### Collection CACM\n",
    "Il faut avoir sauvegardé l'index précédemment."
   ]
  },
  {
   "cell_type": "code",
   "execution_count": 6,
   "metadata": {
    "scrolled": true
   },
   "outputs": [
    {
     "name": "stdout",
     "output_type": "stream",
     "text": [
      "[1258, 1409, 2175, 3131]\n",
      "1258\n",
      "An Extended Arithmetic Package In many fields, for example algebraic number\n",
      "theory, arithmetic must be carried out to a degree \n",
      "of precision which exceeds the normal hardware capacity\n",
      "of most machines.  In such cases, an extended \n",
      "arithmetic package provides a comprehensive and easy-to-use\n",
      "way of performing such arithmetic.  Such \n",
      "a package was coded for the IBM 7090.  In discussing\n",
      "the general problems associated with the design \n",
      "of an extended arithmetic package, specific reference is made to this program.\n",
      "\n",
      "\n",
      "1409\n",
      "NEBULA: A Digital Computer Using a 20 Mc Glass Delay Line Memory Oregon State University has designed and constructed\n",
      "a medium-speed serial digital computer \n",
      "using glass delay lines circulating at 22 Mc as memory.\n",
      " The design objectives as originally conceived \n",
      "in a special seminar were: (1) to be a research project\n",
      "in computer design; (2) to be usable as an educational \n",
      "machine;and (3) to have easily modifiable hardware for\n",
      "basic research in computer systems design.  An \n",
      "unusual arrangement of information within the 22 Mc\n",
      "memory allows a simple interface with the 340 Kc \n",
      "arithmetic unit, which results in an effective zero latency\n",
      "time and provides possibilities for an associative \n",
      "memory.  The arithmetic unit has a command structure similar\n",
      "to large parallel machines, and uses flip-flop \n",
      "arithmetic and control registers throughout.  All hardware\n",
      "development has been aimed toward the concept \n",
      "of easy modification, elaborate console controls for\n",
      "effective man-machine interaction and low cost.\n",
      "\n",
      "\n",
      "2175\n",
      "Subexpression Ordering in the Execution of Arithmetic Expressions An arithmetic expression can often be broken\n",
      "down into its component subexpressions.  Depending \n",
      "on the hardware environment in which the expression is\n",
      "to be executed, these subexpressions can be evaluated \n",
      "in serials, in parallel, or in a combination of these\n",
      "modes.  This paper shows that expression execution \n",
      "time can be minimized only if consideration is given to\n",
      "the ordering of the subexpressions.  In particular, \n",
      "subexpressions should be executed in order of decreasing\n",
      "memory and processor time requirements.  This \n",
      "observation is valid for configurations ranging from\n",
      "a uniprocessor with an unbuffered main memory to \n",
      "multiprocessor with a \"cache\" buffer memory.  If the\n",
      "number of subexpressions which can be executed in \n",
      "parallel exceeds the number of available processors,\n",
      "then execution of some of these subexpressions must \n",
      "be postponed.  A procedure is given which combines this\n",
      "requirement with the earlier ordering considerations \n",
      "to provide an optimal execution sequence.\n",
      " parallel processing, cache, arithmetic expressions,\n",
      "subexpression ordering, computational trees, \n",
      "compilers\n",
      "\n",
      "\n",
      "3131\n",
      "FOCUS Microcomputer Number System FOCUS is a number system and supporting computational\n",
      "algorithms especially useful for microcomputer control and other\n",
      "signal processing applications.  FOCUS has the wide-ranging\n",
      "character of floating-point numbers with a uniformity of state distributions\n",
      "that give FOCUS better than a twofold accuracy advantage\n",
      "over an equal word length floating-point system.  FOCUS computations\n",
      "are typically five times faster than single precision fixed-point\n",
      "or integer arithmetic for a mixture of operations, comparable in\n",
      "speed with hardware arithmetic for many applications.  Algorithms\n",
      "for 8-bit and 16-bit implementations of FOCUS are included.\n",
      " Number representation, logarithmic arithmetic, computational\n",
      "speed, computational accuracy, microcomputer applications  \n",
      "\n",
      "\n",
      "4 result(s) displayed\n",
      "There are 4 result(s) corresponding to the request.\n"
     ]
    }
   ],
   "source": [
    "from boolean.booleanEvaluation import *\n",
    "\n",
    "# search for documents having words arithmetic and hardware in CACM collection\n",
    "request_and = BooleanRequest(Operation.AND, \"arithmetic\", \"hardware\")  # 1258, 1409, 2175, 3131\n",
    "model = BooleanEvaluation(request_and, \"CACM\")\n",
    "res, total = model.search(rank=5)\n",
    "model.display_results(res, total)\n"
   ]
  },
  {
   "cell_type": "markdown",
   "metadata": {},
   "source": [
    "#### Collection CS276\n",
    "Il faut avoir sauvegardé l'index précédemment dans le dossier `index`."
   ]
  },
  {
   "cell_type": "code",
   "execution_count": 5,
   "metadata": {},
   "outputs": [
    {
     "name": "stdout",
     "output_type": "stream",
     "text": [
      "0-101\n",
      "aaa lab at stanford child development and learning external representations social mediation transfer learning versus development dynamic assessment actions and symbols earlier forms of knowledge neuroscience and education daniel schwartz kristen pilner jessica tsang julie heiser taylor martin bruce mccandliss sashank varma physically distributed learning adapting and reinterpreting physical environments in the development of the fraction concept cognitive science how should educational neuroscience conceptualize the relation between cognition and brain function mathematical reasoning as a network process educational research young children's understanding of animacy and entertainment robots international journal of humanoid robotics scientific and pragmatic challenges for bridging education and neuroscience educational researcher reconsidering prior knowledge in thinking with data fostering mathematical thinking in middle school students lessons from research in the nature of mathematical thinking aligning everyday and mathematical reasoning the case of sampling assumptions in reflections on statistics agendas for learning teaching and assessment in k 12 on the role of mathematics in explaining the material world mental models for proportional reasoning cognitive science why people are not like marbles in an urn an effect of context on statistical reasoning applied cognitive psychology how mathematics propels the development of physical knowledge journal of cognition and development cognitive and cortical restructuring in the acquisition of negative numbers nsf reese program 2008 2011 educational neuroscience of integers and understanding nsf sger program 2007 2008 the biological basis of alphanumeric learning nsf reese program 2004 2007 how external representations propel development and future learning nsf bcs program 2002 2005\n",
      "\n",
      "\n",
      "0-1028\n",
      "the freebsd pre login message how do you change the message that appears before the login prompt note option a under 2 was broken for a while but if the crypto sources are installed the version of telnetd that results doesn t allow 2a to work use 2b then 1 create a file with the message you wish to display say etc issue give it 644 permissions chmod 644 issue 2 option a open as root etc gettytab with a text editor and add to the section that says default if etc issue and save the file note that the entries are separated by colons and the section ends with a colon 2 option b instead of using if as in 2a add your message to the im variable and put a n after it for a newline you can do this before or after the other stuff which determines whether it will come before or after the line listing the operating system and so forth be sure you don t split the default line into more than one line use r n and t to format your message beware pico with its automatic wrap 3 you should not need to get gettytab reread by restarting init which you could do either by rebooting a last resort or sending init a signal to restart with kill 1 1 init is always process 1 note that you can t test by logging in from an existing prompt you need to test it from the outside or by using the command telnet localhost 4 you can also create a message attached to the p pc pc console entry in gettytab with an if etc issuemsg added to the next line that will show up internally 5 it's possible to use the fortune program to change the message in the issue or issuemsg when if works file by running a crontab job that calls a script that writes a new message to the file periodically the script would run the fortune program you can create your own data base as a file from which fortune can select a message see man fortune and man strfile annelise anderson andrsn andrsn stanford edu\n",
      "\n",
      "\n",
      "0-1062\n",
      "eudora at stanford stanford answers stanford university stanford answers eudora at stanford categories accounts and ids administrative applications anti virus and security computer operating systems connecting to the network desktop hardware and support email and calendar stanford calendar stanford email webcal webmail departmental email accounts eudora at stanford ical imap email mac os x mail at stanford mailing lists outlook at stanford outlook connector quota and storage space secure email thunderbird at stanford help desk restricted information on it services software at stanford stanford hospital and clinics telephones and cable tv unix systems and software web services user login login with your sunet id home email and calendar eudora at stanford search this site how do i import my eudora for windows mail into outlook import messages from eudora into outlook express and then from outlook express into outlook outlook has built in importers to bring mail from other applications but unless the data files are in one particular location the built in eudora to outlook importers can t find the necessary files there are also reported problems with the processing of sent messages read more how do i import my eudora for os x mail into mail app download install and run the eudora mailbox cleaner freeware or the emailchemy commercial utility read more why won t thunderbird or eudora send email through smtp stanford edu the cause of the problem is a combination of incorrect settings in thunderbird and eudora and authentication on the smtp stanford edu pool of servers the problem usually occurs when an email client is only partially configured to use authentication when sending mail read more where did my imap folder go that i created in eudora on another computer you may need to reset your folder list on any other computers you have set up to use imap to reset your folder list eudora for mac click the envelope button at the bottom of your mailboxes window to refresh imap cache eudora for windows right click the inbox folder and then click refresh mailbox list how can i see how big each email folders is outlook windows right click the inbox folder click properties and then click the folder size button read more i am using eudora 6.0 on my computer and i cannot get secure email to work your version of eudora does not support secure email use webmail or change to a different email client read more syndicate content stanford university 450 serra mall stanford california 94305 650 723 2300 terms of use copyright complaints\n",
      "\n",
      "\n",
      "0-1066\n",
      "outlook connector stanford answers stanford university stanford answers outlook connector categories accounts and ids administrative applications anti virus and security computer operating systems connecting to the network desktop hardware and support email and calendar stanford calendar stanford email webcal webmail departmental email accounts eudora at stanford ical imap email mac os x mail at stanford mailing lists outlook at stanford outlook connector quota and storage space secure email thunderbird at stanford help desk restricted information on it services software at stanford stanford hospital and clinics telephones and cable tv unix systems and software web services user login login with your sunet id home email and calendar outlook connector search this site where do i get the outlook connector the zimbra connector for outlook configures outlook to interact with the zimbra server so that you can access your email calendar contacts and tasks from outlook 2003 or 2007 see the installing the outlook connector web page for the download link and installation instructions how do i synchronize stanford email and calendar with ical and address book use the isync connector to access your email calendar contacts and tasks from apple mail the installing the connector for apple isync web page contains a download link and installation instructions read more after installing the the outlook connector outlook will not autocomplete email addresses when a new outlook profile is created during the outlook connector installation process your previous cache of addresses used in the autocomplete process is left behind associated with the original profile over time a new cache will be created and the autocomplete function will start to work again it is possible to make use of the old cache by renaming it read more i just installed the outlook connector where are my saved mail messages installing the outlook connector creates a new mail profile named zimbra and sets outlook to use that profile mail you have saved in outlook will not be accessible until you open the old data file to open previous outlook storage files pst files read more how do i set up the outlook connector to use secure email by default the outlook connector sends mail through the zimbra server to send mail through the secure email server add a new account in outlook that is used only for sending mail the following procedure sets outlook to send mail through the secure email server outlook 2007 directions are first followed by outlook 2003 directions read more the outlook connector is not syncing properly i am using google desktop occasionally there are problems with the outlook connector's sync function when google desktop is installed if you encounter problems syncing and have google desktop installed try removing or disabling google desktop read more isync connector problem after mac os x 10.6 4 upgrade the isync connector encounters a problem after a mac os x 10.6 4 upgrade zimbra is working on a solution to avoid the problem disable the option in the isync connector to configure ical or uninstall the isync connector read more syndicate content stanford university 450 serra mall stanford california 94305 650 723 2300 terms of use copyright complaints\n",
      "\n",
      "\n",
      "0-1075\n",
      "it services stanford answers stanford university stanford answers it services categories accounts and ids administrative applications anti virus and security computer operating systems connecting to the network desktop hardware and support email and calendar help desk restricted information on it services change management dcm firewalls it services it services billing sharepoint at stanford stanford instant messaging technology training services virtual servers software at stanford stanford hospital and clinics telephones and cable tv unix systems and software web services user login login with your sunet id home information on it services it services search this site there is a problem with a piece of equipment in a classroom the registrar's office manages nearly 200 classrooms in buildings throughout the campus read more where can i find other it resources many it related groups and services are available at stanford including academic computing residential computing rescomp school of earth sciences school of education school of medicine irt read more where can i get technical consulting maintenance and on call support for windows server platforms the windows systems group is responsible for providing technical consulting maintenance and on call support for windows server platforms the windows systems group provides windows server managed hosting for production and development systems what firewall services are available at stanford and where can i find more information stanford it offers administrative custom and departmental firewall services the administrative firewall service provides a firewall infrastructure for servers residing in data centers supported by it services the custom firewall service is offered to clients who want to use a firewall to protect assets residing on their local networks department firewalls are part of the project to implement firewalls across campus at the department network perimeter this service is provided at no cost to all departments read more how do i place an order request using the my it services site on the my it services site select my services from the menu then select the my services tab follow the instructions for ordering new disconnecting and changing services to submit your order for processing select the my cart tab select the order click on checkout all orders submitted for processing will be displayed under the my orders tab read more where can i find out more about virtual servers at stanford it services offers managed virtual servers as an alternative to hosting or managing physical servers this service takes advantage of virtualization technology to host multiple virtual servers each of which functions as a complete and independent server on a single physical server read more does stanford have centralized hardware maintenance contracts for computer equipment yes the campus hardware maintenance program champ is managed by it services it has established a centralized maintenance contract with several vendors to provide support services at a reasonable cost to the campus community the champ program manages the administrative end of the maintenance contracts while vendors provide the on site service departments and labs pay a flat monthly rate for their covered hardware and when a covered piece of equipment requires service participants call the vendor directly to arrange a service call read more where can i get computing and computer related training on campus see the it services technology training website for a current list of instructor led and online it training opportunities offered by various stanford providers in addition to instructor led and online training classes tech training also holds tech briefings tech briefings are informal seminars on computer related topics of interest to the stanford community read more is there an easy way to submit admin support requests yes when you use an admin request link to create your admin support requests many of the helpsu fields are filled in for you the following helpsu links auto fill with correct request category and type the request description field auto fills with a list of items specific to each request please be certain to supply complete information for each item read more about the security self help tool the security self help tool performs basic security checks and repairs on windows vista windows xp and windows 7 computers 32 bit and 64 bit versions are supported this program must be run by a user with administrator privileges if you have local computer support talk to your support technician before attempting any changes other than setting a strong password for your own windows account download security self help tool 3.1 read more syndicate content stanford university 450 serra mall stanford california 94305 650 723 2300 terms of use copyright complaints\n",
      "\n",
      "\n",
      "5 result(s) displayed\n",
      "There are 2103 result(s) corresponding to the request.\n"
     ]
    }
   ],
   "source": [
    "from boolean.booleanEvaluation import *\n",
    "\n",
    "# This will take a few minutes as we need to load the index in memory\n",
    "request_and = BooleanRequest(Operation.AND, \"data\", \"process\")\n",
    "model = BooleanEvaluation(request_and, \"CS276\")\n",
    "res, total = model.search(rank=5)\n",
    "model.display_results(res, total)"
   ]
  },
  {
   "cell_type": "markdown",
   "metadata": {},
   "source": [
    "### Recherche vectorielle\n",
    "Dans la recherche vectorielle, la requête est une un string avec des mots dedans. On preprocesse ce string pour en extraire le vocabulaire (de la même manière que les collections elles-même).\n",
    "\n",
    "@Delphine : expliquer qu'on a défini plusieurs weighting et mesures."
   ]
  },
  {
   "cell_type": "markdown",
   "metadata": {},
   "source": [
    "#### Collection CACM\n",
    "Il faut avoir sauvegardé l'index précédemment dans le dossier `index`."
   ]
  },
  {
   "cell_type": "code",
   "execution_count": 7,
   "metadata": {
    "scrolled": true
   },
   "outputs": [
    {
     "name": "stderr",
     "output_type": "stream",
     "text": [
      "2019-03-07 14:52:28,636 - INFO : Start search...\n",
      "2019-03-07 14:52:29,060 - INFO : Results retrieved.\n"
     ]
    },
    {
     "name": "stdout",
     "output_type": "stream",
     "text": [
      "1409\n",
      "NEBULA: A Digital Computer Using a 20 Mc Glass Delay Line Memory Oregon State University has designed and constructed\n",
      "a medium-speed serial digital computer \n",
      "using glass delay lines circulating at 22 Mc as memory.\n",
      " The design objectives as originally conceived \n",
      "in a special seminar were: (1) to be a research project\n",
      "in computer design; (2) to be usable as an educational \n",
      "machine;and (3) to have easily modifiable hardware for\n",
      "basic research in computer systems design.  An \n",
      "unusual arrangement of information within the 22 Mc\n",
      "memory allows a simple interface with the 340 Kc \n",
      "arithmetic unit, which results in an effective zero latency\n",
      "time and provides possibilities for an associative \n",
      "memory.  The arithmetic unit has a command structure similar\n",
      "to large parallel machines, and uses flip-flop \n",
      "arithmetic and control registers throughout.  All hardware\n",
      "development has been aimed toward the concept \n",
      "of easy modification, elaborate console controls for\n",
      "effective man-machine interaction and low cost.\n",
      "\n",
      "\n",
      "1258\n",
      "An Extended Arithmetic Package In many fields, for example algebraic number\n",
      "theory, arithmetic must be carried out to a degree \n",
      "of precision which exceeds the normal hardware capacity\n",
      "of most machines.  In such cases, an extended \n",
      "arithmetic package provides a comprehensive and easy-to-use\n",
      "way of performing such arithmetic.  Such \n",
      "a package was coded for the IBM 7090.  In discussing\n",
      "the general problems associated with the design \n",
      "of an extended arithmetic package, specific reference is made to this program.\n",
      "\n",
      "\n",
      "2175\n",
      "Subexpression Ordering in the Execution of Arithmetic Expressions An arithmetic expression can often be broken\n",
      "down into its component subexpressions.  Depending \n",
      "on the hardware environment in which the expression is\n",
      "to be executed, these subexpressions can be evaluated \n",
      "in serials, in parallel, or in a combination of these\n",
      "modes.  This paper shows that expression execution \n",
      "time can be minimized only if consideration is given to\n",
      "the ordering of the subexpressions.  In particular, \n",
      "subexpressions should be executed in order of decreasing\n",
      "memory and processor time requirements.  This \n",
      "observation is valid for configurations ranging from\n",
      "a uniprocessor with an unbuffered main memory to \n",
      "multiprocessor with a \"cache\" buffer memory.  If the\n",
      "number of subexpressions which can be executed in \n",
      "parallel exceeds the number of available processors,\n",
      "then execution of some of these subexpressions must \n",
      "be postponed.  A procedure is given which combines this\n",
      "requirement with the earlier ordering considerations \n",
      "to provide an optimal execution sequence.\n",
      " parallel processing, cache, arithmetic expressions,\n",
      "subexpression ordering, computational trees, \n",
      "compilers\n",
      "\n",
      "\n",
      "3131\n",
      "FOCUS Microcomputer Number System FOCUS is a number system and supporting computational\n",
      "algorithms especially useful for microcomputer control and other\n",
      "signal processing applications.  FOCUS has the wide-ranging\n",
      "character of floating-point numbers with a uniformity of state distributions\n",
      "that give FOCUS better than a twofold accuracy advantage\n",
      "over an equal word length floating-point system.  FOCUS computations\n",
      "are typically five times faster than single precision fixed-point\n",
      "or integer arithmetic for a mixture of operations, comparable in\n",
      "speed with hardware arithmetic for many applications.  Algorithms\n",
      "for 8-bit and 16-bit implementations of FOCUS are included.\n",
      " Number representation, logarithmic arithmetic, computational\n",
      "speed, computational accuracy, microcomputer applications  \n",
      "\n",
      "\n",
      "2967\n",
      "A Comparison of Hardware and Software Associative The Associative Processing of Line Drawings (APLD)\n",
      "System utilizes a hardware associative memory \n",
      "and creates, modifies, deletes, stores, and retrieves\n",
      "two-dimensional line drawings consisting of poin ts,\n",
      "lines, rectangles, and triangles. The APLD functions\n",
      "were duplicated on the TX-2 computer at M.I.T.'s \n",
      "Lincoln Laboratory under the LEAP Language and Data\n",
      "Structure,  A comparison of the hardware approach \n",
      "with the software simulation illustrates the advantages\n",
      "of the hardware associative memory in three areas: \n",
      "(1) processing speed, (2) storage requirements, and (3)\n",
      "flexibility.  The major problem areas of hardware \n",
      "associative memory technology, namely input/output\n",
      "and cost effectiveness, are also addressed.\n",
      " associative memory, associative processor, content-addressable\n",
      "memory, graphics, information retrieval, \n",
      "data structures, software evaluation, hardware evaluation,\n",
      "parallel processing, database management\n",
      "\n",
      "\n",
      "5 result(s) displayed\n",
      "There are 150 result(s) corresponding to the request.\n"
     ]
    }
   ],
   "source": [
    "from vectorial.vectorialEvaluation import *\n",
    "\n",
    "# in CACM collection\n",
    "logging.info(\"Start search...\")\n",
    "cacm_request = \"arithmetic hardware\"\n",
    "model = VectorialEvaluation(cacm_request, \"CACM\")\n",
    "# results, total = model.search(NaturalWeighting(), rank=5)\n",
    "# results, total = model.search(TfIdfWeighting(), rank=5)\n",
    "results, total = model.search(NormalizedTfIdfWeighting(), \"jaccard\", rank=5)\n",
    "# print(results)\n",
    "model.display_results(results, total)\n",
    "logging.info(\"Results retrieved.\")"
   ]
  },
  {
   "cell_type": "markdown",
   "metadata": {},
   "source": [
    "#### Collection CS276\n",
    "Il faut avoir sauvegardé l'index précédemment dans le dossier `index`."
   ]
  },
  {
   "cell_type": "code",
   "execution_count": 8,
   "metadata": {},
   "outputs": [
    {
     "name": "stderr",
     "output_type": "stream",
     "text": [
      "2019-03-07 14:52:47,131 - INFO : Start search...\n",
      "2019-03-07 15:02:02,889 - INFO : Results retrieved.\n"
     ]
    },
    {
     "name": "stdout",
     "output_type": "stream",
     "text": [
      "2-4486\n",
      "wide area camera calibration using virtual calibration objects page 1 comparison with traditional calibration wide area camera calibration using virtual calibration objects xing chen james davis philipp slusallek goal calibrate many cameras arranged to cover a wide area working volume building a large physical calibration object is impractical solution build a large virtual calibration object that covers the entire working volume method use all cameras to observe a moving object iterate between solving for the object path and using this path as a virtual calibration object to solve for camera position a space in which a comparison with traditional calibration is possible projection error of a moving object note that the quality of the calibration obtained using our method compares favorably with traditional calibration methods traditional calibration virtual calibration object initial one iteration five iterations results camera arrangement to be calibrated note that since the cameras cover a wide area traditional calibration is not possible projection error as a function of iterations using a virtual calibration object note that very stable convergence to the correct camera calibration is obtained initial three iterations forty iterations structure from motion global unification ekf based physical point tracking virtual object creation traditional camera calibration 2d 2d image correspondences rough global camera pose pair wise camera relations 3d object trace 3d 2d correspondences structure from motion global unification ekf based physical point tracking virtual object creation traditional camera calibration 2d 2d image correspondences rough global camera pose pair wise camera relations 3d object trace 3d 2d correspondences improved global camera pose improved global camera pose example object path page 2\n",
      "\n",
      "\n",
      "5-8718\n",
      "mdi data services & information soi logo mdi data services & information from this page you can make mdi data export requests search our database view quick look data and review documentation on mdi data and data processing if you use mdi data please reference the data as described in the soi data availability policy click for 1024x1024 images lev1 8 full disk 96m magnetograms were recalibrated in december 2008 calibrated magnetograms are available for download at our ftp site thirteen annual 14 gb tar files provide the complete 96 minute magnetic series from 1996 2008 individual magnetograms can currently be retrieved at the same site from daily subdirectories all export requests for lev1 8 magnetograms synoptic 96 minute and hourly one minute campaigns receive data calibrated with the best available method see lev 1.8 for a summary of the mdi magnetic field calibration data archive automated data search and export requests this is the normal link to request mdi data request datasets for export or check on the status of a previous request calibration notes and problems descriptions of known calibration problems for each observable including correction tables if we have them under construction flatfields for lev1 5 1.8 high res continuum data generated by potts & diver table of soho off nominal roll times table of soho hga blackout keyhole times quick look and synoptic data magnetic field synoptic charts and computed coronal field maps links to all mdi and wso synoptic data data image atlas view images of mdi eof data for the last 30 days of observing farside images improved farside images view images of the farside of the sun made from mdi doppler data with experimental procedure quick look magnetogram summary images mini 96m magnetograms on one plot per day gif images magnetogram gif images intensitygram gif images with limb darkening removed intensitygram gif images with limb darkening latest quick look gifs are also here database browsers database browsers do general searches of the soi database for available datasets dataset image headers examine on line dataset headers local soi group only others may view the dataset headers via the data archive link above data production status data anomaly reports reports of known problems with the data monthly high rate data coverage plots see what dates and times mdi high rate data are available monthly low rate data coverage plots see what dates and times mdi low rate data are available monthly magnetic field data coverage plots see when various kinds of magnetic field data are available monthly image center plots plots of the image center drift in arc seconds latest mdi data processing status report find out how the processing of the data is proceeding data export plots megabytes exported and number of export requests documentation mdi data info page in soho standard format soi technical notes data quality documentation including quality bit definitions science support center user's guide dpc & campaign table dpcs and observables associated with each mdi campaign significant observing conditions & events query for significant spacecraft and instrument events conforming dataset document level 1.5 image header descriptions soi data availability policy general info science objectives & proposals results images & documentation data services & info operations other links solar center page last revised friday 27 may 2011 16 45 35 pdt\n",
      "\n",
      "\n",
      "5-8719\n",
      "mdi data search and export soi logo mdi data search and export requests from this page you can search through mdi and other datasets available for export from the solar oscillations investigation soi data archive select and request data to be exported copied directly to your machine directory or via various media formats and check on the status of your request s choose the search and export method that is easiest for you based on the kind of data you wish to export note lev1 8 full disk 96m magnetograms were recalibrated in december 2008 calibrated magnetograms are available for download at our ftp site thirteen annual 14 gb tar files provide the complete 96 minute magnetic series from 1996 2008 individual magnetograms can currently be retrieved at the same site from daily subdirectories all export requests for lev1 8 magnetograms synoptic 96 minute and hourly one minute campaigns receive data calibrated with the best available method see lev 1.8 for a summary of the mdi magnetic field calibration daily magnetograms and synoptic charts downloadable summary gif images fits files and daily synoptic charts use this link if you are only interested in daily synoptic magnetic field data magnetic field and intensity synoptic charts downloadable synoptic chart fits files and gif images use this link if you are only interested in synoptic charts one per carrington rotation calibrated data products search for and export level 1.8 1.5 or 1.7 1.4 mdi data organized by observable eg full disc dopplergrams high resolution magnetograms etc including campaign data use this link for most requests for calibrated image data particularly for time series calibrated campaign data search for and export level 1.5 mdi campaign data organized in time order by campaign name cross referenced to soho jops joint observing programs use this link to find data for collaborative investigations sample images are provided calibrated data by time range search for and export any level 1.4 1.5 1.7 1.8 mdi data taken during a given range in time use this link to find data if you know the time range you re interested in also use this link for spherical harmonic transform time series general data requests search for and export any kind of data from the soi archive organized by mission instrument processing level and data type this is the most general of our data export paths use this link if what you are looking for is not in the above pages or if you would like more information about the data in the archive status of pending data requests check on the status of your data export request general info science objectives & proposals results images & documentation data services & info operations other links press releases solar center stanford solar group page last revised tuesday 13 apr 2010 14 32 29 pdt\n",
      "\n",
      "\n",
      "2-3500\n",
      "isoc science operations related information lat isoc operations concept science operations monitoring the science operations team is responsible for monitoring the lat for instrument anomolies and for monitoring the data retrieval pipeline processing and data transmission infrastructure in order to ensure timely delivery of the science data products to the collaboration and to the gssc in addition the team monitors intermediate stage gleam generated digitization and reconstruction data products to analyze the state of the lat itself in order to verify that the instrument is functioning as simulations have predicted and that performance changes over time are understood optimization the team also reviews data over time and performs analyses to determine whether the flight software grb detection algorithm and detection parameters are optimal and if gamma filter settings for automatic repoint request mode and hardware trigger settings are appropriate for data collection during grb events science ops is also responsible for proposing lat configurations and lat flight software configurations calibrations and procedures science operations also proposes procedures for all diagnostic and charge injection calibration data collections the flight operations team will then convert these high level science operations requests into mission planning products and record upcoming diagnostic and calibration activities in the weekly lat operations plan science ops also reviews the resulting data and in consultation with the calibration and analysis working group defines new calibration constants to be uploaded trending long term trends in detector performance as well as accumulated maps of hardware failure are also maintained and analyzed by the team which is responsible for continuously feeding them into the mission planning process throughout the mission but especially during the 60 day commissioning period and phase 1 sky survey activities science ops is responsible for determining optimal hardware and flight software configurations for data taking problem identification on a daily basis the major science ops activity is monitoring shifters and scientists work to identify coarse instrument problems and prioritize which areas must be investigated further for example has a hardware or software problem surfaced does a data processing analysis parameter or cut have to be modified is there an aspect of orbital conditions that must be better understood support of mission planning on a weekly time scale shifters check that all supporting steps for upcoming planned science activities have been completed this function requires a clear view of the week's mission plan and the upcoming set of mission activities operations staff uses displays to inspect in detail the mission plan for the upcoming day a list of of tasks planned for the current day using data drawn from mood they confirm that all necessary configurations have been loaded or are ready to be loaded the also review the previous day's activities in elog for an overview of past activities both on the ground and in orbit for example they might check the status of a set of moot generated charge inject calibration configuration files to ensure that all uploads have been validated and are in place for upcoming planned activities that the related mission timelines have been updated and that procs and command sets have been tested and subsequently transferred to the moc on longer time scales the science ops team works closely with the flight ops team to propose new observation strategies and analyze how these optimized strategies may enhance or otherwise affect proposed activities on teh mission timelines they will also propose modifications to flight software together with recommendations for testing these changes on the lat testbed using the front end simulator last updated by chuck patterson 05 23 2007 back to top please send all comments and suggestions to lat isoc web admin\n",
      "\n",
      "\n",
      "7-6004\n",
      "98.1 26 calibration meeting preliminary agenda slac pep ii babar slac ral babar logo hepic e s & h databases pdg hep preprints organization detector computing physics documentation personnel glossary sitemap search hypernews unwrap page comp search who's who meetings faq homepage archive environment administration new user info web info tools monitoring training tools & utils programming c++ standard srt afs cvs qa and qc remedy histogramming operations promptreco simulation production online sw dataflow detector control evt processing run control calibration databases offline workbook coding standards simulation reconstruction prompt reco babar grid data distribution beta & betatools kanga & root analysis tools roofit toolkit data management data quality event display event browser code releases databases check this page for html 4.01 transitional compliance with the w3c validator more checks 98.1 26 calibration meeting preliminary agenda from the minutes of the 98.1 12 calibration meeting the next online calibration meeting jan 26th will be devoted to subsystem status reports each system will have 10 minutes to discuss their progress towards implementing a simulated full calibration chain of 1 calibration type including classes for accumulation fitting validation and storage we should hear what they are working on and what problems they re having whether those are specific to calibration or not all subsystems should prepare 1 presentation and all should be ready to share solutions they have found to their own problems extra credit will go to any group which can discuss both an online and an offline datastream calibration type dave brown this page maintained by gregory dubois felsmann last modified mon jan 12 14 58 26 pst\n",
      "\n",
      "\n",
      "5 result(s) displayed\n",
      "There are 25618 result(s) corresponding to the request.\n"
     ]
    }
   ],
   "source": [
    "# This will take a few minutes as we need to load the index in memory.\n",
    "logging.info(\"Start search...\")\n",
    "cs276_request = \"data processing high res calibration\"\n",
    "model = VectorialEvaluation(cs276_request, \"CS276\")\n",
    "# results, total = model.search(NaturalWeighting(), rank=5)\n",
    "# results, total = model.search(TfIdfWeighting(), rank=5)\n",
    "results, total = model.search(NormalizedTfIdfWeighting(), \"jaccard\", rank=5)\n",
    "model.display_results(results, total)\n",
    "logging.info(\"Results retrieved.\")"
   ]
  },
  {
   "cell_type": "markdown",
   "metadata": {},
   "source": [
    "## Part 4 : CACM Evaluation\n",
    "Dans cette partie on veut évaluer les performances et la pertinence des résultats par la collection CACM.\n",
    "\n",
    "###  Performance"
   ]
  },
  {
   "cell_type": "code",
   "execution_count": 3,
   "metadata": {},
   "outputs": [
    {
     "name": "stdout",
     "output_type": "stream",
     "text": [
      "The index is created in 2.1441550254821777\n",
      "The index CACM has a size 1M\n",
      "A boolean request gives a response in 0.00014209747314453125s\n",
      "A vectorial request gives a response in 0.05024886131286621s\n"
     ]
    }
   ],
   "source": [
    "from CACMEvaluation import *\n",
    "\n",
    "print(\"The index is created in {}\".format(index_creation_time()))\n",
    "print(\"The index CACM has a size {}\".format(get_file_size(\"index_CACM.json\")))\n",
    "# print(\"The index CS276 has a size {}\".format(get_file_size(\"index_CS276.json\")))\n",
    "print(\"A boolean request gives a response in {}s\".format(get_boolean_response_time()))\n",
    "print(\"A vectorial request gives a response in {}s\".format(get_vectorial_response_time()))"
   ]
  },
  {
   "cell_type": "markdown",
   "metadata": {},
   "source": [
    "### Pertinence\n",
    "Pour calculer la pertinence on utilise les requêtes et résultats attendus des fichiers `query.txt` et `qrels.txt`. On trace la courbe de rappel-précision ainsi que les courbes de la F et E mesure. On calcule la précision moyenne puis on calcule la r-précision pour chaque requête."
   ]
  },
  {
   "cell_type": "code",
   "execution_count": 2,
   "metadata": {
    "scrolled": true
   },
   "outputs": [
    {
     "name": "stdout",
     "output_type": "stream",
     "text": [
      "Plotting recall-precision curve...\n"
     ]
    },
    {
     "data": {
      "image/png": "[encoded data removed]",
      "text/plain": [
       "<Figure size 432x288 with 1 Axes>"
      ]
     },
     "metadata": {
      "needs_background": "light"
     },
     "output_type": "display_data"
    },
    {
     "name": "stdout",
     "output_type": "stream",
     "text": [
      "Recall-precision curve plotted\n",
      "\n",
      "The Mean Average Precision is 0.22270412724117739\n",
      "\n",
      "Calculate r-precision for all requests...\n",
      "For the request 1 the r-precision is 0.0.\n",
      "For the request 2 the r-precision is 0.0.\n",
      "For the request 3 the r-precision is 0.0.\n",
      "For the request 4 the r-precision is 0.16666666666666666.\n",
      "For the request 5 the r-precision is 0.125.\n",
      "For the request 6 the r-precision is 0.6666666666666666.\n",
      "For the request 7 the r-precision is 0.07142857142857142.\n",
      "For the request 8 the r-precision is 0.3333333333333333.\n",
      "For the request 9 the r-precision is 0.3333333333333333.\n",
      "For the request 10 the r-precision is 0.4.\n",
      "For the request 11 the r-precision is 0.47368421052631576.\n",
      "For the request 12 the r-precision is 0.2.\n",
      "For the request 13 the r-precision is 0.09090909090909091.\n",
      "For the request 14 the r-precision is 0.1590909090909091.\n",
      "For the request 15 the r-precision is 0.0.\n",
      "For the request 16 the r-precision is 0.11764705882352941.\n",
      "For the request 17 the r-precision is 0.125.\n",
      "For the request 18 the r-precision is 0.09090909090909091.\n",
      "For the request 19 the r-precision is 0.2727272727272727.\n",
      "For the request 20 the r-precision is 0.0.\n",
      "For the request 21 the r-precision is 0.18181818181818182.\n",
      "For the request 22 the r-precision is 0.4117647058823529.\n",
      "For the request 23 the r-precision is 0.25.\n",
      "For the request 24 the r-precision is 0.07692307692307693.\n",
      "For the request 25 the r-precision is 0.19607843137254902.\n",
      "For the request 26 the r-precision is 0.06666666666666667.\n",
      "For the request 27 the r-precision is 0.3793103448275862.\n",
      "For the request 28 the r-precision is 0.8.\n",
      "For the request 29 the r-precision is 0.0.\n",
      "For the request 30 the r-precision is 0.0.\n",
      "For the request 31 the r-precision is 0.5.\n",
      "For the request 32 the r-precision is 0.3333333333333333.\n",
      "For the request 33 the r-precision is 0.0.\n",
      "For the request 36 the r-precision is 0.25.\n",
      "For the request 37 the r-precision is 0.16666666666666666.\n",
      "For the request 38 the r-precision is 0.4375.\n",
      "For the request 39 the r-precision is 0.16666666666666666.\n",
      "For the request 40 the r-precision is 0.1.\n",
      "For the request 42 the r-precision is 0.14285714285714285.\n",
      "For the request 43 the r-precision is 0.12195121951219512.\n",
      "For the request 44 the r-precision is 0.058823529411764705.\n",
      "For the request 45 the r-precision is 0.038461538461538464.\n",
      "For the request 48 the r-precision is 0.08333333333333333.\n",
      "For the request 49 the r-precision is 0.0.\n",
      "For the request 57 the r-precision is 1.0.\n",
      "For the request 58 the r-precision is 0.16666666666666666.\n",
      "For the request 59 the r-precision is 0.18604651162790697.\n",
      "For the request 60 the r-precision is 0.07407407407407407.\n",
      "For the request 61 the r-precision is 0.2903225806451613.\n",
      "For the request 62 the r-precision is 0.25.\n",
      "For the request 63 the r-precision is 0.4166666666666667.\n",
      "For the request 64 the r-precision is 0.0.\n"
     ]
    }
   ],
   "source": [
    "from CACMEvaluation import *\n",
    "\n",
    "# Here you can change the weighting\n",
    "calculate_measures(NaturalWeighting())"
   ]
  }
 ],
 "metadata": {
  "kernelspec": {
   "display_name": "Python 3",
   "language": "python",
   "name": "python3"
  },
  "language_info": {
   "codemirror_mode": {
    "name": "ipython",
    "version": 3
   },
   "file_extension": ".py",
   "mimetype": "text/x-python",
   "name": "python",
   "nbconvert_exporter": "python",
   "pygments_lexer": "ipython3",
   "version": "3.7.1"
  }
 },
 "nbformat": 4,
 "nbformat_minor": 1
}
